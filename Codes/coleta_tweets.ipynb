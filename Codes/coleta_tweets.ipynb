{
 "cells": [
  {
   "cell_type": "code",
   "execution_count": null,
   "id": "730bcb27-30dd-4159-bebe-6e69de8d7bba",
   "metadata": {},
   "outputs": [],
   "source": [
    "import re\n",
    "\n",
    "lista_all = []\n",
    "\n",
    "for i in range(1,104):\n",
    "    \n",
    "    try:\n",
    "        i = str(i)\n",
    "        f = open('mapas/'+i+'.txt', 'r')\n",
    "        lista_coordenadas = f.readlines()\n",
    "    \n",
    "        res =[]\n",
    "        lista_res = []\n",
    "        qtd = len(lista_coordenadas)\n",
    "\n",
    "\n",
    "        for i in lista_coordenadas:     \n",
    "\n",
    "            if('-' in i):\n",
    "                #i = i.strip()\n",
    "                i = \" \".join(i.split())\n",
    "                lista_res.append(i)\n",
    "\n",
    "        #pega as coordenadas\n",
    "        res_long = []\n",
    "        res_lat = []\n",
    "        for i in lista_res:\n",
    "            res.append(i.split(\" \"))\n",
    "\n",
    "        for i in range(len(res)):\n",
    "            res[i][0] = float(res[i][0])\n",
    "            res[i][1] = float(res[i][1])\n",
    "\n",
    "            res_long.append(res[i][0])\n",
    "            res_lat.append(res[i][1])\n",
    "\n",
    "        lista_res = res\n",
    "\n",
    "        res_lat.sort()\n",
    "        res_long.sort()\n",
    "\n",
    "        item = []\n",
    "        item.append(res_long[0])\n",
    "        item.append(res_lat[0])\n",
    "        item.append(res_long[-1])\n",
    "        item.append(res_lat[-1])\n",
    "        \n",
    "        \n",
    "\n",
    "        lista_all.append(item)\n",
    "    except:\n",
    "        print(\"Arquivo \"+i+\" não existe\")"
   ]
  },
  {
   "cell_type": "code",
   "execution_count": null,
   "id": "b23a62b7-e62f-4502-9a2e-54da28a0d6b6",
   "metadata": {},
   "outputs": [],
   "source": [
    "for i in range(len(lista_all)):\n",
    "    print(i+1,\":\",lista_all[i])"
   ]
  },
  {
   "cell_type": "code",
   "execution_count": null,
   "id": "158813d4-eaea-4b58-885d-f7c23103ee34",
   "metadata": {},
   "outputs": [],
   "source": [
    "!pip install tweepy"
   ]
  },
  {
   "cell_type": "code",
   "execution_count": null,
   "id": "ce10e75f-d284-4ebd-b567-6b979a01e54f",
   "metadata": {},
   "outputs": [],
   "source": [
    "import tweepy\n",
    "import pandas as pd\n",
    "import datetime\n",
    "import numpy as np"
   ]
  },
  {
   "cell_type": "code",
   "execution_count": null,
   "id": "948082ba-ef69-4d80-a1d2-5d45c95c892d",
   "metadata": {},
   "outputs": [],
   "source": [
    "bearer_token = 'seu_bearer_token'\n",
    "\n",
    "api_key = 'seu_api_key'\n",
    "api_secret = 'seu_api_secret'\n",
    "\n",
    "access_token = 'seu_access_token'\n",
    "access_token_secret = 'seu_access_token_secret'"
   ]
  },
  {
   "cell_type": "code",
   "execution_count": null,
   "id": "18acb8a6-39f3-4ea2-92e3-02d4d8a03f47",
   "metadata": {},
   "outputs": [],
   "source": [
    "auth = tweepy.OAuthHandler(api_key, api_secret)\n",
    "auth.set_access_token(access_token, access_token_secret)\n",
    "\n",
    "client = tweepy.Client(auth)"
   ]
  },
  {
   "cell_type": "code",
   "execution_count": null,
   "id": "219d7b23-2716-49bc-ba61-8e188f654c92",
   "metadata": {},
   "outputs": [],
   "source": [
    "client = tweepy.Client(bearer_token, api_key, api_secret, access_token, access_token_secret)"
   ]
  },
  {
   "cell_type": "code",
   "execution_count": null,
   "id": "c6787fe9-e23b-4de4-a967-b8b2dfbf0a92",
   "metadata": {},
   "outputs": [],
   "source": [
    "l1 = list(np.arange(1,54))\n",
    "l2 = [56,57,58,62,63,64,65,66,69,70,73,75,77,78,80,81,85,87,89,90,91,92,96,97,98,99,101,102,103]\n",
    "areas = l1+l2\n",
    "len(areas)"
   ]
  },
  {
   "cell_type": "code",
   "execution_count": null,
   "id": "5fb2933b-ee1e-468d-8892-9e1264c91fa0",
   "metadata": {},
   "outputs": [],
   "source": [
    "start_time = '2023-06-20T00:00:00Z'\n",
    "end_time = '2023-06-27T09:00:00Z'\n",
    "tweets_fields_list = ['created_at','id','text', 'entities', 'in_reply_to_user_id', 'public_metrics', 'geo']\n",
    "expansions_list = ['author_id', 'geo.place_id']"
   ]
  },
  {
   "cell_type": "code",
   "execution_count": null,
   "id": "1e1e2f1f-f263-43d5-8569-6258ca620f8a",
   "metadata": {},
   "outputs": [],
   "source": [
    "cont=0\n",
    "for i in lista_all:\n",
    "    \n",
    "    box = \"\".join(str(i[0])+\" \"+str(i[1])+\" \"+str(i[2])+\" \"+str(i[3]))\n",
    "    list_response = []\n",
    "    \n",
    "    query = 'bounding_box:['+box+']'\n",
    "    #query = 'bounding_box:['+box+'] (palavra_chave OR palavra_chave OR palavra-chave etc)'\n",
    "    for response in tweepy.Paginator(client.search_recent_tweets, query=query, \n",
    "                                     tweet_fields=tweets_fields_list, expansions=expansions_list, place_fields=['place_type', 'geo'],\n",
    "                                     start_time=start_time, end_time = end_time,\n",
    "                                     max_results=100, limit=1000):\n",
    "        #places = {p[\"id\"]: p for p in response.includes['places']}\n",
    "        try:\n",
    "            places = {p[\"id\"]: p for p in response.includes['places']}\n",
    "            \n",
    "        except:\n",
    "            continue\n",
    "        \n",
    "        if response is not None:   \n",
    "            #print(\"response not none\")\n",
    "            for tweet in response.data:\n",
    "                #print(\"-------------Tweet----------------\")\n",
    "                ##print(tweet.created_at.strftime('%Y-%m-%d'))\n",
    "                #print(tweet.author_id,tweet.id,tweet.created_at,tweet.text, tweet.public_metrics['reply_count'])\n",
    "                aux = [tweet.author_id, tweet.id, tweet.created_at.strftime('%Y-%m-%d'), tweet.text]\n",
    "                list_response.append(aux)\n",
    "                if tweet.geo:\n",
    "                    if places[tweet.geo['place_id']]:\n",
    "                        place = places[tweet.geo['place_id']]\n",
    "                        \n",
    "    \n",
    "    df = pd.DataFrame(list_response, columns=['author_id', 'tweet_id', 'created_at', 'text'])\n",
    "    df.to_csv('coleta_tweets/area_'+str(areas[cont])+'/tweets_area_'+str(cont)+'_'+start_time+'|'+end_time+'.csv')\n",
    "    cont+=1"
   ]
  },
  {
   "cell_type": "code",
   "execution_count": null,
   "id": "e9ee89a7-822c-4bfa-ad00-ca54dc657ed1",
   "metadata": {},
   "outputs": [],
   "source": []
  }
 ],
 "metadata": {
  "kernelspec": {
   "display_name": "Python 3 (ipykernel)",
   "language": "python",
   "name": "python3"
  },
  "language_info": {
   "codemirror_mode": {
    "name": "ipython",
    "version": 3
   },
   "file_extension": ".py",
   "mimetype": "text/x-python",
   "name": "python",
   "nbconvert_exporter": "python",
   "pygments_lexer": "ipython3",
   "version": "3.10.9"
  }
 },
 "nbformat": 4,
 "nbformat_minor": 5
}
