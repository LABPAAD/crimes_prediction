{
 "cells": [
  {
   "cell_type": "code",
   "execution_count": 1,
   "id": "730bcb27-30dd-4159-bebe-6e69de8d7bba",
   "metadata": {},
   "outputs": [
    {
     "name": "stdout",
     "output_type": "stream",
     "text": [
      "Arquivo 54 não existe\n",
      "Arquivo 55 não existe\n",
      "Arquivo 59 não existe\n",
      "Arquivo 60 não existe\n",
      "Arquivo 61 não existe\n",
      "Arquivo 67 não existe\n",
      "Arquivo 68 não existe\n",
      "Arquivo 71 não existe\n",
      "Arquivo 72 não existe\n",
      "Arquivo 74 não existe\n",
      "Arquivo 76 não existe\n",
      "Arquivo 79 não existe\n",
      "Arquivo 82 não existe\n",
      "Arquivo 83 não existe\n",
      "Arquivo 84 não existe\n",
      "Arquivo 86 não existe\n",
      "Arquivo 88 não existe\n",
      "Arquivo 93 não existe\n",
      "Arquivo 94 não existe\n",
      "Arquivo 95 não existe\n",
      "Arquivo 100 não existe\n"
     ]
    }
   ],
   "source": [
    "import re\n",
    "\n",
    "lista_all = []\n",
    "\n",
    "for i in range(1,104):\n",
    "    \n",
    "    try:\n",
    "        i = str(i)\n",
    "        f = open('mapas/'+i+'.txt', 'r')\n",
    "        lista_coordenadas = f.readlines()\n",
    "    \n",
    "        res =[]\n",
    "        lista_res = []\n",
    "        qtd = len(lista_coordenadas)\n",
    "\n",
    "\n",
    "        for i in lista_coordenadas:     \n",
    "\n",
    "            if('-' in i):\n",
    "                #i = i.strip()\n",
    "                i = \" \".join(i.split())\n",
    "                lista_res.append(i)\n",
    "\n",
    "        #pega as coordenadas\n",
    "        res_long = []\n",
    "        res_lat = []\n",
    "        for i in lista_res:\n",
    "            res.append(i.split(\" \"))\n",
    "\n",
    "        for i in range(len(res)):\n",
    "            res[i][0] = float(res[i][0])\n",
    "            res[i][1] = float(res[i][1])\n",
    "\n",
    "            res_long.append(res[i][0])\n",
    "            res_lat.append(res[i][1])\n",
    "\n",
    "        lista_res = res\n",
    "\n",
    "        res_lat.sort()\n",
    "        res_long.sort()\n",
    "\n",
    "        item = []\n",
    "        item.append(res_long[0])\n",
    "        item.append(res_lat[0])\n",
    "        item.append(res_long[-1])\n",
    "        item.append(res_lat[-1])\n",
    "        \n",
    "        \n",
    "\n",
    "        lista_all.append(item)\n",
    "    except:\n",
    "        print(\"Arquivo \"+i+\" não existe\")"
   ]
  },
  {
   "cell_type": "code",
   "execution_count": 2,
   "id": "b23a62b7-e62f-4502-9a2e-54da28a0d6b6",
   "metadata": {},
   "outputs": [
    {
     "name": "stdout",
     "output_type": "stream",
     "text": [
      "1 : [-46.642296, -23.56204, -46.625156, -23.535462]\n",
      "2 : [-46.654157, -23.535965, -46.63016, -23.517134]\n",
      "3 : [-46.647623, -23.549737, -46.633249, -23.535024]\n",
      "4 : [-46.667812, -23.560951, -46.642245, -23.540116]\n",
      "5 : [-46.655304, -23.573905, -46.632381, -23.549751]\n",
      "6 : [-46.640415, -23.595472, -46.607905, -23.554299]\n",
      "7 : [-46.715375, -23.545675, -46.678785, -23.508322]\n",
      "8 : [-46.625888, -23.567639, -46.58043, -23.539184]\n",
      "9 : [-46.62561, -23.525921, -46.590946, -23.485581]\n",
      "10 : [-46.558204, -23.534528, -46.519876, -23.496518]\n",
      "11 : [-46.726202, -23.665064, -46.672696, -23.620155]\n",
      "12 : [-46.633148, -23.547816, -46.598956, -23.519058]\n",
      "13 : [-46.667218, -23.519363, -46.624466, -23.479724]\n",
      "14 : [-46.73419, -23.57219, -46.666134, -23.535298]\n",
      "15 : [-46.700271, -23.597204, -46.66174, -23.564407]\n",
      "16 : [-46.652581, -23.62818, -46.615415, -23.589504]\n",
      "17 : [-46.62346, -23.611772, -46.579326, -23.566211]\n",
      "18 : [-46.610236, -23.581974, -46.586617, -23.554636]\n",
      "19 : [-46.596589, -23.528133, -46.567479, -23.494751]\n",
      "20 : [-46.647347, -23.499097, -46.599078, -23.446346]\n",
      "21 : [-46.548372, -23.555168, -46.490361, -23.527367]\n",
      "22 : [-46.453092, -23.513594, -46.416978, -23.471916]\n",
      "23 : [-46.691814, -23.555248, -46.648259, -23.513467]\n",
      "24 : [-46.548668, -23.535707, -46.486993, -23.478802]\n",
      "25 : [-46.811591, -24.008112, -46.60608, -23.76126]\n",
      "26 : [-46.620702, -23.639822, -46.594186, -23.607847]\n",
      "27 : [-46.687204, -23.644857, -46.644218, -23.600049]\n",
      "28 : [-46.710702, -23.509106, -46.670049, -23.474201]\n",
      "29 : [-46.577828, -23.582479, -46.546757, -23.555245]\n",
      "30 : [-46.580377, -23.562573, -46.542789, -23.534962]\n",
      "31 : [-46.549825, -23.564272, -46.516911, -23.539506]\n",
      "32 : [-46.462296, -23.556605, -46.423766, -23.510366]\n",
      "33 : [-46.763722, -23.520718, -46.720028, -23.453321]\n",
      "34 : [-46.753444, -23.618141, -46.691499, -23.572293]\n",
      "35 : [-46.671943, -23.667478, -46.620827, -23.619273]\n",
      "36 : [-46.66482, -23.608007, -46.630529, -23.569839]\n",
      "37 : [-46.780157, -23.660357, -46.736575, -23.61133]\n",
      "38 : [-46.672591, -23.488595, -46.615343, -23.421426]\n",
      "39 : [-46.616312, -23.500367, -46.571573, -23.462783]\n",
      "40 : [-46.689684, -23.515218, -46.660342, -23.476168]\n",
      "41 : [-46.537183, -23.599355, -46.502153, -23.559079]\n",
      "42 : [-46.569393, -23.611885, -46.524347, -23.577384]\n",
      "43 : [-46.679849, -23.683572, -46.641006, -23.644557]\n",
      "44 : [-46.426458, -23.570742, -46.391262, -23.539645]\n",
      "45 : [-46.71436, -23.481344, -46.676913, -23.459428]\n",
      "46 : [-46.826097, -23.494275, -46.709257, -23.343995]\n",
      "47 : [-46.802577, -23.702505, -46.756653, -23.639124]\n",
      "48 : [-46.710863, -23.730203, -46.665185, -23.687347]\n",
      "49 : [-46.492134, -23.6256, -46.422972, -23.5823]\n",
      "50 : [-46.406143, -23.523668, -46.366024, -23.48148]\n",
      "51 : [-46.776843, -23.586458, -46.700992, -23.558376]\n",
      "52 : [-46.584984, -23.541902, -46.548343, -23.523193]\n",
      "53 : [-46.490997, -23.597772, -46.414836, -23.55049]\n",
      "54 : [-46.597108, -23.604629, -46.556294, -23.575602]\n",
      "55 : [-46.599899, -23.581499, -46.570814, -23.54309]\n",
      "56 : [-46.560346, -23.581804, -46.520906, -23.54897]\n",
      "57 : [-46.511912, -23.517679, -46.46772, -23.477258]\n",
      "58 : [-46.478018, -23.519388, -46.443601, -23.479955]\n",
      "59 : [-46.495001, -23.543322, -46.443304, -23.513531]\n",
      "60 : [-46.50229, -23.55699, -46.45602, -23.535814]\n",
      "61 : [-46.521557, -23.583881, -46.474417, -23.548787]\n",
      "62 : [-46.514772, -23.625586, -46.476094, -23.580244]\n",
      "63 : [-46.544591, -23.62579, -46.501154, -23.588068]\n",
      "64 : [-46.603195, -23.487096, -46.560812, -23.414459]\n",
      "65 : [-46.809877, -23.610192, -46.75972, -23.570644]\n",
      "66 : [-46.66153, -23.545527, -46.637012, -23.527895]\n",
      "67 : [-46.677784, -23.579053, -46.64172, -23.554061]\n",
      "68 : [-46.68491, -23.697348, -46.650444, -23.665251]\n",
      "69 : [-46.606789, -23.54763, -46.580627, -23.525468]\n",
      "70 : [-46.770715, -23.788158, -46.653322, -23.733144]\n",
      "71 : [-46.740918, -23.507951, -46.704273, -23.457904]\n",
      "72 : [-46.756038, -23.644702, -46.700755, -23.593666]\n",
      "73 : [-46.588936, -23.529376, -46.555561, -23.482553]\n",
      "74 : [-46.748274, -23.545877, -46.711499, -23.508554]\n",
      "75 : [-46.773096, -23.686713, -46.720407, -23.64246]\n",
      "76 : [-46.70076, -23.626193, -46.658991, -23.592592]\n",
      "77 : [-46.653202, -23.683798, -46.616551, -23.635991]\n",
      "78 : [-46.709413, -23.727863, -46.616015, -23.644118]\n",
      "79 : [-46.710242, -23.702603, -46.671368, -23.651193]\n",
      "80 : [-46.73405, -23.764535, -46.652915, -23.702812]\n",
      "81 : [-46.724905, -23.711326, -46.695716, -23.656727]\n",
      "82 : [-46.446765, -23.563998, -46.419153, -23.525077]\n"
     ]
    }
   ],
   "source": [
    "for i in range(len(lista_all)):\n",
    "    print(i+1,\":\",lista_all[i])"
   ]
  },
  {
   "cell_type": "code",
   "execution_count": 3,
   "id": "158813d4-eaea-4b58-885d-f7c23103ee34",
   "metadata": {},
   "outputs": [
    {
     "name": "stdout",
     "output_type": "stream",
     "text": [
      "Requirement already satisfied: tweepy in /home/saul/anaconda3/lib/python3.10/site-packages (4.13.0)\n",
      "Requirement already satisfied: requests<3,>=2.27.0 in /home/saul/anaconda3/lib/python3.10/site-packages (from tweepy) (2.28.1)\n",
      "Requirement already satisfied: oauthlib<4,>=3.2.0 in /home/saul/anaconda3/lib/python3.10/site-packages (from tweepy) (3.2.2)\n",
      "Requirement already satisfied: requests-oauthlib<2,>=1.2.0 in /home/saul/anaconda3/lib/python3.10/site-packages (from tweepy) (1.3.1)\n",
      "Requirement already satisfied: urllib3<1.27,>=1.21.1 in /home/saul/anaconda3/lib/python3.10/site-packages (from requests<3,>=2.27.0->tweepy) (1.26.14)\n",
      "Requirement already satisfied: charset-normalizer<3,>=2 in /home/saul/anaconda3/lib/python3.10/site-packages (from requests<3,>=2.27.0->tweepy) (2.0.4)\n",
      "Requirement already satisfied: idna<4,>=2.5 in /home/saul/anaconda3/lib/python3.10/site-packages (from requests<3,>=2.27.0->tweepy) (3.4)\n",
      "Requirement already satisfied: certifi>=2017.4.17 in /home/saul/anaconda3/lib/python3.10/site-packages (from requests<3,>=2.27.0->tweepy) (2022.12.7)\n"
     ]
    }
   ],
   "source": [
    "!pip install tweepy"
   ]
  },
  {
   "cell_type": "code",
   "execution_count": 4,
   "id": "ce10e75f-d284-4ebd-b567-6b979a01e54f",
   "metadata": {},
   "outputs": [],
   "source": [
    "import tweepy\n",
    "import pandas as pd\n",
    "import datetime\n",
    "import numpy as np"
   ]
  },
  {
   "cell_type": "code",
   "execution_count": 5,
   "id": "948082ba-ef69-4d80-a1d2-5d45c95c892d",
   "metadata": {},
   "outputs": [],
   "source": [
    "bearer_token = 'AAAAAAAAAAAAAAAAAAAAAPRmVwEAAAAA0SZB7FsAkoyd5hOUb5P%2BEj2%2BabU%3DrLneVQPkWmQAQBzkhAt5P75b7WMxfsmnT8p3g0TI5WOyk4G9Lb'\n",
    "\n",
    "api_key = 'lxQxxOLAautRqhnkV3aeumjs6'\n",
    "api_secret = 'd3eTqzFOpZbOamDVIulo0pezcy9qwYrva2vYjwea06KrXWPR5c'\n",
    "\n",
    "access_token = '931996125242019840-qZ5RdpTyjnJTCl948uCJ8StPup4oVtV'\n",
    "access_token_secret = 'ywSqS4OQBZhiC35mgZufT8n1gB69P6881x0mBDH8pwjSK'"
   ]
  },
  {
   "cell_type": "code",
   "execution_count": 10,
   "id": "18acb8a6-39f3-4ea2-92e3-02d4d8a03f47",
   "metadata": {},
   "outputs": [],
   "source": [
    "auth = tweepy.OAuthHandler(api_key, api_secret)\n",
    "auth.set_access_token(access_token, access_token_secret)\n",
    "\n",
    "client = tweepy.Client(auth)"
   ]
  },
  {
   "cell_type": "code",
   "execution_count": 13,
   "id": "219d7b23-2716-49bc-ba61-8e188f654c92",
   "metadata": {},
   "outputs": [],
   "source": [
    "client = tweepy.Client(bearer_token, api_key, api_secret, access_token, access_token_secret)"
   ]
  },
  {
   "cell_type": "code",
   "execution_count": 7,
   "id": "c6787fe9-e23b-4de4-a967-b8b2dfbf0a92",
   "metadata": {},
   "outputs": [
    {
     "data": {
      "text/plain": [
       "82"
      ]
     },
     "execution_count": 7,
     "metadata": {},
     "output_type": "execute_result"
    }
   ],
   "source": [
    "l1 = list(np.arange(1,54))\n",
    "l2 = [56,57,58,62,63,64,65,66,69,70,73,75,77,78,80,81,85,87,89,90,91,92,96,97,98,99,101,102,103]\n",
    "areas = l1+l2\n",
    "len(areas)"
   ]
  },
  {
   "cell_type": "code",
   "execution_count": 11,
   "id": "5fb2933b-ee1e-468d-8892-9e1264c91fa0",
   "metadata": {},
   "outputs": [],
   "source": [
    "start_time = '2023-06-20T00:00:00Z'\n",
    "end_time = '2023-06-27T09:00:00Z'\n",
    "tweets_fields_list = ['created_at','id','text', 'entities', 'in_reply_to_user_id', 'public_metrics', 'geo']\n",
    "expansions_list = ['author_id', 'geo.place_id']"
   ]
  },
  {
   "cell_type": "code",
   "execution_count": 14,
   "id": "1e1e2f1f-f263-43d5-8569-6258ca620f8a",
   "metadata": {},
   "outputs": [
    {
     "ename": "Forbidden",
     "evalue": "403 Forbidden\nWhen authenticating requests to the Twitter API v2 endpoints, you must use keys and tokens from a Twitter developer App that is attached to a Project. You can create a project via the developer portal.",
     "output_type": "error",
     "traceback": [
      "\u001b[0;31m---------------------------------------------------------------------------\u001b[0m",
      "\u001b[0;31mForbidden\u001b[0m                                 Traceback (most recent call last)",
      "Cell \u001b[0;32mIn[14], line 9\u001b[0m\n\u001b[1;32m      7\u001b[0m query \u001b[38;5;241m=\u001b[39m \u001b[38;5;124m'\u001b[39m\u001b[38;5;124mbounding_box:[\u001b[39m\u001b[38;5;124m'\u001b[39m\u001b[38;5;241m+\u001b[39mbox\u001b[38;5;241m+\u001b[39m\u001b[38;5;124m'\u001b[39m\u001b[38;5;124m]\u001b[39m\u001b[38;5;124m'\u001b[39m\n\u001b[1;32m      8\u001b[0m \u001b[38;5;66;03m#query = 'bounding_box:['+box+'] (palavra_chave OR palavra_chave OR palavra-chave etc)'\u001b[39;00m\n\u001b[0;32m----> 9\u001b[0m \u001b[38;5;28;01mfor\u001b[39;00m response \u001b[38;5;129;01min\u001b[39;00m tweepy\u001b[38;5;241m.\u001b[39mPaginator(client\u001b[38;5;241m.\u001b[39msearch_recent_tweets, query\u001b[38;5;241m=\u001b[39mquery, \n\u001b[1;32m     10\u001b[0m                                  tweet_fields\u001b[38;5;241m=\u001b[39mtweets_fields_list, expansions\u001b[38;5;241m=\u001b[39mexpansions_list, place_fields\u001b[38;5;241m=\u001b[39m[\u001b[38;5;124m'\u001b[39m\u001b[38;5;124mplace_type\u001b[39m\u001b[38;5;124m'\u001b[39m, \u001b[38;5;124m'\u001b[39m\u001b[38;5;124mgeo\u001b[39m\u001b[38;5;124m'\u001b[39m],\n\u001b[1;32m     11\u001b[0m                                  start_time\u001b[38;5;241m=\u001b[39mstart_time, end_time \u001b[38;5;241m=\u001b[39m end_time,\n\u001b[1;32m     12\u001b[0m                                  max_results\u001b[38;5;241m=\u001b[39m\u001b[38;5;241m100\u001b[39m, limit\u001b[38;5;241m=\u001b[39m\u001b[38;5;241m1000\u001b[39m):\n\u001b[1;32m     13\u001b[0m     \u001b[38;5;66;03m#places = {p[\"id\"]: p for p in response.includes['places']}\u001b[39;00m\n\u001b[1;32m     14\u001b[0m     \u001b[38;5;28;01mtry\u001b[39;00m:\n\u001b[1;32m     15\u001b[0m         places \u001b[38;5;241m=\u001b[39m {p[\u001b[38;5;124m\"\u001b[39m\u001b[38;5;124mid\u001b[39m\u001b[38;5;124m\"\u001b[39m]: p \u001b[38;5;28;01mfor\u001b[39;00m p \u001b[38;5;129;01min\u001b[39;00m response\u001b[38;5;241m.\u001b[39mincludes[\u001b[38;5;124m'\u001b[39m\u001b[38;5;124mplaces\u001b[39m\u001b[38;5;124m'\u001b[39m]}\n",
      "File \u001b[0;32m~/anaconda3/lib/python3.10/site-packages/tweepy/pagination.py:126\u001b[0m, in \u001b[0;36mPaginationIterator.__next__\u001b[0;34m(self)\u001b[0m\n\u001b[1;32m    123\u001b[0m \u001b[38;5;28;01melse\u001b[39;00m:\n\u001b[1;32m    124\u001b[0m     \u001b[38;5;28mself\u001b[39m\u001b[38;5;241m.\u001b[39mkwargs[\u001b[38;5;124m\"\u001b[39m\u001b[38;5;124mpagination_token\u001b[39m\u001b[38;5;124m\"\u001b[39m] \u001b[38;5;241m=\u001b[39m pagination_token\n\u001b[0;32m--> 126\u001b[0m response \u001b[38;5;241m=\u001b[39m \u001b[38;5;28;43mself\u001b[39;49m\u001b[38;5;241;43m.\u001b[39;49m\u001b[43mmethod\u001b[49m\u001b[43m(\u001b[49m\u001b[38;5;241;43m*\u001b[39;49m\u001b[38;5;28;43mself\u001b[39;49m\u001b[38;5;241;43m.\u001b[39;49m\u001b[43margs\u001b[49m\u001b[43m,\u001b[49m\u001b[43m \u001b[49m\u001b[38;5;241;43m*\u001b[39;49m\u001b[38;5;241;43m*\u001b[39;49m\u001b[38;5;28;43mself\u001b[39;49m\u001b[38;5;241;43m.\u001b[39;49m\u001b[43mkwargs\u001b[49m\u001b[43m)\u001b[49m\n\u001b[1;32m    128\u001b[0m \u001b[38;5;28;01mif\u001b[39;00m \u001b[38;5;28misinstance\u001b[39m(response, Response):\n\u001b[1;32m    129\u001b[0m     meta \u001b[38;5;241m=\u001b[39m response\u001b[38;5;241m.\u001b[39mmeta\n",
      "File \u001b[0;32m~/anaconda3/lib/python3.10/site-packages/tweepy/client.py:1266\u001b[0m, in \u001b[0;36mClient.search_recent_tweets\u001b[0;34m(self, query, user_auth, **params)\u001b[0m\n\u001b[1;32m   1174\u001b[0m \u001b[38;5;124;03m\"\"\"search_recent_tweets( \\\u001b[39;00m\n\u001b[1;32m   1175\u001b[0m \u001b[38;5;124;03m    query, *, end_time=None, expansions=None, max_results=None, \\\u001b[39;00m\n\u001b[1;32m   1176\u001b[0m \u001b[38;5;124;03m    media_fields=None, next_token=None, place_fields=None, \\\u001b[39;00m\n\u001b[0;32m   (...)\u001b[0m\n\u001b[1;32m   1263\u001b[0m \u001b[38;5;124;03m.. _Academic Research Project: https://developer.twitter.com/en/docs/projects\u001b[39;00m\n\u001b[1;32m   1264\u001b[0m \u001b[38;5;124;03m\"\"\"\u001b[39;00m\n\u001b[1;32m   1265\u001b[0m params[\u001b[38;5;124m\"\u001b[39m\u001b[38;5;124mquery\u001b[39m\u001b[38;5;124m\"\u001b[39m] \u001b[38;5;241m=\u001b[39m query\n\u001b[0;32m-> 1266\u001b[0m \u001b[38;5;28;01mreturn\u001b[39;00m \u001b[38;5;28;43mself\u001b[39;49m\u001b[38;5;241;43m.\u001b[39;49m\u001b[43m_make_request\u001b[49m\u001b[43m(\u001b[49m\n\u001b[1;32m   1267\u001b[0m \u001b[43m    \u001b[49m\u001b[38;5;124;43m\"\u001b[39;49m\u001b[38;5;124;43mGET\u001b[39;49m\u001b[38;5;124;43m\"\u001b[39;49m\u001b[43m,\u001b[49m\u001b[43m \u001b[49m\u001b[38;5;124;43m\"\u001b[39;49m\u001b[38;5;124;43m/2/tweets/search/recent\u001b[39;49m\u001b[38;5;124;43m\"\u001b[39;49m\u001b[43m,\u001b[49m\u001b[43m \u001b[49m\u001b[43mparams\u001b[49m\u001b[38;5;241;43m=\u001b[39;49m\u001b[43mparams\u001b[49m\u001b[43m,\u001b[49m\n\u001b[1;32m   1268\u001b[0m \u001b[43m    \u001b[49m\u001b[43mendpoint_parameters\u001b[49m\u001b[38;5;241;43m=\u001b[39;49m\u001b[43m(\u001b[49m\n\u001b[1;32m   1269\u001b[0m \u001b[43m        \u001b[49m\u001b[38;5;124;43m\"\u001b[39;49m\u001b[38;5;124;43mend_time\u001b[39;49m\u001b[38;5;124;43m\"\u001b[39;49m\u001b[43m,\u001b[49m\u001b[43m \u001b[49m\u001b[38;5;124;43m\"\u001b[39;49m\u001b[38;5;124;43mexpansions\u001b[39;49m\u001b[38;5;124;43m\"\u001b[39;49m\u001b[43m,\u001b[49m\u001b[43m \u001b[49m\u001b[38;5;124;43m\"\u001b[39;49m\u001b[38;5;124;43mmax_results\u001b[39;49m\u001b[38;5;124;43m\"\u001b[39;49m\u001b[43m,\u001b[49m\u001b[43m \u001b[49m\u001b[38;5;124;43m\"\u001b[39;49m\u001b[38;5;124;43mmedia.fields\u001b[39;49m\u001b[38;5;124;43m\"\u001b[39;49m\u001b[43m,\u001b[49m\n\u001b[1;32m   1270\u001b[0m \u001b[43m        \u001b[49m\u001b[38;5;124;43m\"\u001b[39;49m\u001b[38;5;124;43mnext_token\u001b[39;49m\u001b[38;5;124;43m\"\u001b[39;49m\u001b[43m,\u001b[49m\u001b[43m \u001b[49m\u001b[38;5;124;43m\"\u001b[39;49m\u001b[38;5;124;43mplace.fields\u001b[39;49m\u001b[38;5;124;43m\"\u001b[39;49m\u001b[43m,\u001b[49m\u001b[43m \u001b[49m\u001b[38;5;124;43m\"\u001b[39;49m\u001b[38;5;124;43mpoll.fields\u001b[39;49m\u001b[38;5;124;43m\"\u001b[39;49m\u001b[43m,\u001b[49m\u001b[43m \u001b[49m\u001b[38;5;124;43m\"\u001b[39;49m\u001b[38;5;124;43mquery\u001b[39;49m\u001b[38;5;124;43m\"\u001b[39;49m\u001b[43m,\u001b[49m\n\u001b[1;32m   1271\u001b[0m \u001b[43m        \u001b[49m\u001b[38;5;124;43m\"\u001b[39;49m\u001b[38;5;124;43msince_id\u001b[39;49m\u001b[38;5;124;43m\"\u001b[39;49m\u001b[43m,\u001b[49m\u001b[43m \u001b[49m\u001b[38;5;124;43m\"\u001b[39;49m\u001b[38;5;124;43msort_order\u001b[39;49m\u001b[38;5;124;43m\"\u001b[39;49m\u001b[43m,\u001b[49m\u001b[43m \u001b[49m\u001b[38;5;124;43m\"\u001b[39;49m\u001b[38;5;124;43mstart_time\u001b[39;49m\u001b[38;5;124;43m\"\u001b[39;49m\u001b[43m,\u001b[49m\u001b[43m \u001b[49m\u001b[38;5;124;43m\"\u001b[39;49m\u001b[38;5;124;43mtweet.fields\u001b[39;49m\u001b[38;5;124;43m\"\u001b[39;49m\u001b[43m,\u001b[49m\n\u001b[1;32m   1272\u001b[0m \u001b[43m        \u001b[49m\u001b[38;5;124;43m\"\u001b[39;49m\u001b[38;5;124;43muntil_id\u001b[39;49m\u001b[38;5;124;43m\"\u001b[39;49m\u001b[43m,\u001b[49m\u001b[43m \u001b[49m\u001b[38;5;124;43m\"\u001b[39;49m\u001b[38;5;124;43muser.fields\u001b[39;49m\u001b[38;5;124;43m\"\u001b[39;49m\n\u001b[1;32m   1273\u001b[0m \u001b[43m    \u001b[49m\u001b[43m)\u001b[49m\u001b[43m,\u001b[49m\u001b[43m \u001b[49m\u001b[43mdata_type\u001b[49m\u001b[38;5;241;43m=\u001b[39;49m\u001b[43mTweet\u001b[49m\u001b[43m,\u001b[49m\u001b[43m \u001b[49m\u001b[43muser_auth\u001b[49m\u001b[38;5;241;43m=\u001b[39;49m\u001b[43muser_auth\u001b[49m\n\u001b[1;32m   1274\u001b[0m \u001b[43m\u001b[49m\u001b[43m)\u001b[49m\n",
      "File \u001b[0;32m~/anaconda3/lib/python3.10/site-packages/tweepy/client.py:129\u001b[0m, in \u001b[0;36mBaseClient._make_request\u001b[0;34m(self, method, route, params, endpoint_parameters, json, data_type, user_auth)\u001b[0m\n\u001b[1;32m    123\u001b[0m \u001b[38;5;28;01mdef\u001b[39;00m \u001b[38;5;21m_make_request\u001b[39m(\n\u001b[1;32m    124\u001b[0m     \u001b[38;5;28mself\u001b[39m, method, route, params\u001b[38;5;241m=\u001b[39m{}, endpoint_parameters\u001b[38;5;241m=\u001b[39m(), json\u001b[38;5;241m=\u001b[39m\u001b[38;5;28;01mNone\u001b[39;00m,\n\u001b[1;32m    125\u001b[0m     data_type\u001b[38;5;241m=\u001b[39m\u001b[38;5;28;01mNone\u001b[39;00m, user_auth\u001b[38;5;241m=\u001b[39m\u001b[38;5;28;01mFalse\u001b[39;00m\n\u001b[1;32m    126\u001b[0m ):\n\u001b[1;32m    127\u001b[0m     request_params \u001b[38;5;241m=\u001b[39m \u001b[38;5;28mself\u001b[39m\u001b[38;5;241m.\u001b[39m_process_params(params, endpoint_parameters)\n\u001b[0;32m--> 129\u001b[0m     response \u001b[38;5;241m=\u001b[39m \u001b[38;5;28;43mself\u001b[39;49m\u001b[38;5;241;43m.\u001b[39;49m\u001b[43mrequest\u001b[49m\u001b[43m(\u001b[49m\u001b[43mmethod\u001b[49m\u001b[43m,\u001b[49m\u001b[43m \u001b[49m\u001b[43mroute\u001b[49m\u001b[43m,\u001b[49m\u001b[43m \u001b[49m\u001b[43mparams\u001b[49m\u001b[38;5;241;43m=\u001b[39;49m\u001b[43mrequest_params\u001b[49m\u001b[43m,\u001b[49m\n\u001b[1;32m    130\u001b[0m \u001b[43m                            \u001b[49m\u001b[43mjson\u001b[49m\u001b[38;5;241;43m=\u001b[39;49m\u001b[43mjson\u001b[49m\u001b[43m,\u001b[49m\u001b[43m \u001b[49m\u001b[43muser_auth\u001b[49m\u001b[38;5;241;43m=\u001b[39;49m\u001b[43muser_auth\u001b[49m\u001b[43m)\u001b[49m\n\u001b[1;32m    132\u001b[0m     \u001b[38;5;28;01mif\u001b[39;00m \u001b[38;5;28mself\u001b[39m\u001b[38;5;241m.\u001b[39mreturn_type \u001b[38;5;129;01mis\u001b[39;00m requests\u001b[38;5;241m.\u001b[39mResponse:\n\u001b[1;32m    133\u001b[0m         \u001b[38;5;28;01mreturn\u001b[39;00m response\n",
      "File \u001b[0;32m~/anaconda3/lib/python3.10/site-packages/tweepy/client.py:100\u001b[0m, in \u001b[0;36mBaseClient.request\u001b[0;34m(self, method, route, params, json, user_auth)\u001b[0m\n\u001b[1;32m     98\u001b[0m     \u001b[38;5;28;01mraise\u001b[39;00m Unauthorized(response)\n\u001b[1;32m     99\u001b[0m \u001b[38;5;28;01mif\u001b[39;00m response\u001b[38;5;241m.\u001b[39mstatus_code \u001b[38;5;241m==\u001b[39m \u001b[38;5;241m403\u001b[39m:\n\u001b[0;32m--> 100\u001b[0m     \u001b[38;5;28;01mraise\u001b[39;00m Forbidden(response)\n\u001b[1;32m    101\u001b[0m \u001b[38;5;28;01mif\u001b[39;00m response\u001b[38;5;241m.\u001b[39mstatus_code \u001b[38;5;241m==\u001b[39m \u001b[38;5;241m404\u001b[39m:\n\u001b[1;32m    102\u001b[0m     \u001b[38;5;28;01mraise\u001b[39;00m NotFound(response)\n",
      "\u001b[0;31mForbidden\u001b[0m: 403 Forbidden\nWhen authenticating requests to the Twitter API v2 endpoints, you must use keys and tokens from a Twitter developer App that is attached to a Project. You can create a project via the developer portal."
     ]
    }
   ],
   "source": [
    "cont=0\n",
    "for i in lista_all:\n",
    "    \n",
    "    box = \"\".join(str(i[0])+\" \"+str(i[1])+\" \"+str(i[2])+\" \"+str(i[3]))\n",
    "    list_response = []\n",
    "    \n",
    "    query = 'bounding_box:['+box+']'\n",
    "    #query = 'bounding_box:['+box+'] (palavra_chave OR palavra_chave OR palavra-chave etc)'\n",
    "    for response in tweepy.Paginator(client.search_recent_tweets, query=query, \n",
    "                                     tweet_fields=tweets_fields_list, expansions=expansions_list, place_fields=['place_type', 'geo'],\n",
    "                                     start_time=start_time, end_time = end_time,\n",
    "                                     max_results=100, limit=1000):\n",
    "        #places = {p[\"id\"]: p for p in response.includes['places']}\n",
    "        try:\n",
    "            places = {p[\"id\"]: p for p in response.includes['places']}\n",
    "            \n",
    "        except:\n",
    "            continue\n",
    "        \n",
    "        if response is not None:   \n",
    "            #print(\"response not none\")\n",
    "            for tweet in response.data:\n",
    "                #print(\"-------------Tweet----------------\")\n",
    "                ##print(tweet.created_at.strftime('%Y-%m-%d'))\n",
    "                #print(tweet.author_id,tweet.id,tweet.created_at,tweet.text, tweet.public_metrics['reply_count'])\n",
    "                aux = [tweet.author_id, tweet.id, tweet.created_at.strftime('%Y-%m-%d'), tweet.text]\n",
    "                list_response.append(aux)\n",
    "                if tweet.geo:\n",
    "                    if places[tweet.geo['place_id']]:\n",
    "                        place = places[tweet.geo['place_id']]\n",
    "                        \n",
    "    \n",
    "    df = pd.DataFrame(list_response, columns=['author_id', 'tweet_id', 'created_at', 'text'])\n",
    "    df.to_csv('coleta_tweets/area_'+str(areas[cont])+'/tweets_area_'+str(cont)+'_'+start_time+'|'+end_time+'.csv')\n",
    "    cont+=1"
   ]
  },
  {
   "cell_type": "code",
   "execution_count": null,
   "id": "e9ee89a7-822c-4bfa-ad00-ca54dc657ed1",
   "metadata": {},
   "outputs": [],
   "source": []
  }
 ],
 "metadata": {
  "kernelspec": {
   "display_name": "Python 3 (ipykernel)",
   "language": "python",
   "name": "python3"
  },
  "language_info": {
   "codemirror_mode": {
    "name": "ipython",
    "version": 3
   },
   "file_extension": ".py",
   "mimetype": "text/x-python",
   "name": "python",
   "nbconvert_exporter": "python",
   "pygments_lexer": "ipython3",
   "version": "3.10.9"
  }
 },
 "nbformat": 4,
 "nbformat_minor": 5
}
