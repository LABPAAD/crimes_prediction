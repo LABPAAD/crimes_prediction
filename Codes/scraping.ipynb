{
 "cells": [
  {
   "cell_type": "code",
   "execution_count": 1,
   "id": "d96b95fb-e2bb-41c3-af2f-fa9f355ec9e3",
   "metadata": {},
   "outputs": [],
   "source": [
    "from selenium import webdriver\n",
    "from selenium.webdriver.common.keys import Keys\n",
    "import time\n",
    "import pandas as pd\n",
    "import numpy as np\n",
    "from glob import glob"
   ]
  },
  {
   "cell_type": "code",
   "execution_count": null,
   "id": "640008fd-1b47-4242-9678-636428b83bc5",
   "metadata": {},
   "outputs": [],
   "source": [
    "# !pip install selenium\n",
    "# !pip install webdriver-manager"
   ]
  },
  {
   "cell_type": "code",
   "execution_count": 4,
   "id": "aa6216ae-3c18-4f4f-a947-d6c206eb990d",
   "metadata": {},
   "outputs": [],
   "source": [
    "lista_dps = glob(\"../Datasets/SSP/2022/*\")\n",
    "lista_dps.sort()\n",
    "\n",
    "termos = []\n",
    "for dp in lista_dps:\n",
    "    item = dp.split(\"-\")\n",
    "    item = item[2]\n",
    "    item = item.join(\" \")+item+\"São Paulo\"\n",
    "    item = item.lstrip()\n",
    "    item = item.lower()\n",
    "    termos.append(item)"
   ]
  },
  {
   "cell_type": "code",
   "execution_count": 3,
   "id": "f2f3307a-bd0d-4122-a241-8587c2a86916",
   "metadata": {},
   "outputs": [],
   "source": [
    "categorias = ['Artes e entretenimento','Comercial e industria', 'Compras', 'Empregos e educação', 'Esporte',\n",
    "              'Notícias', 'Imóveis', 'Pessoas e sociedade', 'Saúde']"
   ]
  },
  {
   "cell_type": "code",
   "execution_count": 32,
   "id": "a4fd8e25",
   "metadata": {},
   "outputs": [
    {
     "data": {
      "text/plain": [
       "69"
      ]
     },
     "execution_count": 32,
     "metadata": {},
     "output_type": "execute_result"
    }
   ],
   "source": [
    "#Termos com dados suficientes no trends\n",
    "teste = pd.read_csv(\"/home/saul/Documentos/Projects/crimes_prediction/Datasets/trends/trends2022_mensal.csv\")\n",
    "termos = teste[\"Unnamed: 0\"].values\n",
    "len(termos)"
   ]
  },
  {
   "cell_type": "code",
   "execution_count": 20,
   "id": "8f4f0a77-790c-42ac-8e33-ac350e740782",
   "metadata": {},
   "outputs": [],
   "source": [
    "# Inicialize o driver do navegador (substitua 'chromedriver' pelo caminho do seu driver)\n",
    "# driver = webdriver.Chrome(executable_path='../Outros/chromedriver_linux64/chromedriver')\n",
    "\n",
    "#################\n",
    "\n",
    "from webdriver_manager.chrome import ChromeDriverManager\n",
    "from selenium.webdriver.chrome.service import Service\n",
    "\n",
    "\n",
    "servico = Service(ChromeDriverManager().install())\n",
    "\n",
    "options= webdriver.ChromeOptions()\n",
    "prefs={\"download.default_directory\":\"../crimes_prediction/Datasets/trends/scrap\"}\n",
    "\n",
    "navegador = webdriver.Chrome(service = servico)\n",
    "\n",
    "navegador.maximize_window()"
   ]
  },
  {
   "cell_type": "code",
   "execution_count": 120,
   "id": "761175d6-b564-4d9f-a1c5-d1c0ded43982",
   "metadata": {},
   "outputs": [],
   "source": [
    "navegador.get('https://trends.google.com.br/trends/explore?cat=45&date=2022-01-01%202022-12-31')"
   ]
  },
  {
   "cell_type": "markdown",
   "id": "6156b70c-f9dd-4b04-bca4-be1f7a015a17",
   "metadata": {},
   "source": [
    "### Extraindo dados dos graficos diretamente"
   ]
  },
  {
   "cell_type": "code",
   "execution_count": 123,
   "id": "3d205256-ac04-44f6-825d-f573bd642b3b",
   "metadata": {},
   "outputs": [],
   "source": [
    "for termo in termos[1:]:\n",
    "    ## seleciona o termo de busca\n",
    "    # Localize o campo de pesquisa (substitua 'id_do_campo' pelo identificador correto)\n",
    "    \n",
    "    termo_de_pesquisa = navegador.find_element('xpath','//*[@id=\"input-30\"]')\n",
    "    # Preencha o campo de pesquisa com sua consulta\n",
    "    termo_de_pesquisa.send_keys(termo)\n",
    "    time.sleep(1)\n",
    "    # Pressione Enter para realizar a pesquisa (ou localize e clique no botão de pesquisa)\n",
    "    termo_de_pesquisa.send_keys(Keys.ENTER)\n",
    "    time.sleep(5)\n",
    "    ## baixando csv\n",
    "    navegador.find_element('xpath','/html/body/div[2]/div[2]/div/md-content/div/div/div[1]/trends-widget/ng-include/widget/div/div/div/widget-actions/div/button[1]').click()\n",
    "    time.sleep(2)\n",
    "    termo_de_pesquisa.click()\n",
    "    time.sleep(1)\n",
    "    \n"
   ]
  },
  {
   "cell_type": "code",
   "execution_count": null,
   "id": "e793f9e6",
   "metadata": {},
   "outputs": [],
   "source": []
  }
 ],
 "metadata": {
  "kernelspec": {
   "display_name": "Python 3 (ipykernel)",
   "language": "python",
   "name": "python3"
  },
  "language_info": {
   "codemirror_mode": {
    "name": "ipython",
    "version": 3
   },
   "file_extension": ".py",
   "mimetype": "text/x-python",
   "name": "python",
   "nbconvert_exporter": "python",
   "pygments_lexer": "ipython3",
   "version": "3.10.9"
  }
 },
 "nbformat": 4,
 "nbformat_minor": 5
}
