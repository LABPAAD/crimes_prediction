{
 "cells": [
  {
   "cell_type": "code",
   "execution_count": 1,
   "id": "d96b95fb-e2bb-41c3-af2f-fa9f355ec9e3",
   "metadata": {},
   "outputs": [],
   "source": [
    "from selenium import webdriver\n",
    "from selenium.webdriver.common.keys import Keys\n",
    "import time\n",
    "import pandas as pd\n",
    "import numpy as np\n",
    "from glob import glob"
   ]
  },
  {
   "cell_type": "code",
   "execution_count": null,
   "id": "640008fd-1b47-4242-9678-636428b83bc5",
   "metadata": {},
   "outputs": [],
   "source": [
    "# !pip install selenium\n",
    "# !pip install webdriver-manager"
   ]
  },
  {
   "cell_type": "code",
   "execution_count": 2,
   "id": "aa6216ae-3c18-4f4f-a947-d6c206eb990d",
   "metadata": {},
   "outputs": [],
   "source": [
    "lista_dps = glob(\"../Datasets/SSP/2022/*\")\n",
    "lista_dps.sort()\n",
    "\n",
    "termos = []\n",
    "for dp in lista_dps:\n",
    "    item = dp.split(\"-\")\n",
    "    item = item[2]\n",
    "    item = item.join(\" \")+item+\"São Paulo\"\n",
    "    item = item.lstrip()\n",
    "    item = item.lower()\n",
    "    termos.append(item)"
   ]
  },
  {
   "cell_type": "code",
   "execution_count": 4,
   "id": "f2f3307a-bd0d-4122-a241-8587c2a86916",
   "metadata": {},
   "outputs": [],
   "source": [
    "categorias = ['Artes e entretenimento','Comercial e industria', 'Compras', 'Empregos e educação', 'Esporte',\n",
    "              'Notícias', 'Imóveis', 'Pessoas e sociedade', 'Saúde']"
   ]
  },
  {
   "cell_type": "code",
   "execution_count": 46,
   "id": "8f4f0a77-790c-42ac-8e33-ac350e740782",
   "metadata": {},
   "outputs": [],
   "source": [
    "# Inicialize o driver do navegador (substitua 'chromedriver' pelo caminho do seu driver)\n",
    "# driver = webdriver.Chrome(executable_path='../Outros/chromedriver_linux64/chromedriver')\n",
    "\n",
    "#################\n",
    "\n",
    "from webdriver_manager.chrome import ChromeDriverManager\n",
    "from selenium.webdriver.chrome.service import Service\n",
    "\n",
    "servico = Service(ChromeDriverManager().install())\n",
    "\n",
    "navegador = webdriver.Chrome(service = servico)\n"
   ]
  },
  {
   "cell_type": "code",
   "execution_count": 48,
   "id": "761175d6-b564-4d9f-a1c5-d1c0ded43982",
   "metadata": {},
   "outputs": [],
   "source": [
    "navegador.get('https://trends.google.com.br/trends/explore')"
   ]
  },
  {
   "cell_type": "code",
   "execution_count": 100,
   "id": "0a3adc90-7088-46b3-8a81-bb33583d8f91",
   "metadata": {},
   "outputs": [],
   "source": [
    "navegador.quit()"
   ]
  },
  {
   "cell_type": "code",
   "execution_count": null,
   "id": "8263fa17-0c75-4795-ae74-4eb2c15158fe",
   "metadata": {},
   "outputs": [],
   "source": [
    "url = 'https://trends.google.com.br/trends/explore'\n",
    "\n",
    "# Localize o campo de pesquisa (substitua 'id_do_campo' pelo identificador correto)\n",
    "campo_de_pesquisa = driver.find_element_by_id('xpath', '//*[@id=\"input-29\"]')\n",
    "\n",
    "# Preencha o campo de pesquisa com sua consulta\n",
    "campo_de_pesquisa.send_keys(\"sua consulta\")\n",
    "\n",
    "# Pressione Enter para realizar a pesquisa (ou localize e clique no botão de pesquisa)\n",
    "campo_de_pesquisa.send_keys(Keys.ENTER)\n",
    "\n",
    "# Aguarde um tempo para a página carregar (ajuste conforme necessário)\n",
    "time.sleep(10)\n",
    "\n",
    "# Localize e clique no botão desejado (substitua 'id_do_botao' pelo identificador correto)\n",
    "botao = driver.find_element_by_id('id_do_botao')\n",
    "botao.click()\n",
    "\n",
    "# Aguarde novamente para a página carregar, se necessário\n",
    "time.sleep(10)\n",
    "\n",
    "# Agora você pode localizar os links para os arquivos CSV e fazer o download deles,\n",
    "# da mesma forma como mencionei no exemplo anterior.\n",
    "\n",
    "# Por fim, feche o navegador quando você terminar\n",
    "driver.quit()"
   ]
  },
  {
   "cell_type": "markdown",
   "id": "6156b70c-f9dd-4b04-bca4-be1f7a015a17",
   "metadata": {},
   "source": [
    "### Extraindo dados dos graficos diretamente"
   ]
  },
  {
   "cell_type": "code",
   "execution_count": 89,
   "id": "8a13df94-3499-4268-9efc-b181aa65854b",
   "metadata": {},
   "outputs": [
    {
     "name": "stderr",
     "output_type": "stream",
     "text": [
      "/tmp/ipykernel_3553/3415826301.py:11: DeprecationWarning: headless property is deprecated, instead use add_argument('--headless') or add_argument('--headless=new')\n",
      "  option.headless = False\n"
     ]
    }
   ],
   "source": [
    "from selenium.webdriver.chrome.options import Options\n",
    "from selenium.webdriver.support.ui import WebDriverWait\n",
    "from selenium.webdriver.support import expected_conditions as EC\n",
    "from selenium.webdriver.common.by import By\n",
    "import datetime as dt\n",
    "import pandas as pd\n",
    "\n",
    "# Opening the connection and grabbing the page\n",
    "my_url = 'https://trends.google.com.br/trends/explore'\n",
    "option = Options()\n",
    "option.headless = False\n",
    "driver = webdriver.Chrome(options=option)\n",
    "driver.get(my_url)\n",
    "driver.maximize_window()"
   ]
  },
  {
   "cell_type": "code",
   "execution_count": 79,
   "id": "b127f350-0c92-4dfa-bf8f-d95c11349ee5",
   "metadata": {},
   "outputs": [],
   "source": [
    "## seleciona o termo de busca\n",
    "# Localize o campo de pesquisa (substitua 'id_do_campo' pelo identificador correto)\n",
    "termo_de_pesquisa = driver.find_element('xpath', '//*[@id=\"input-29\"]')\n",
    "\n",
    "# Preencha o campo de pesquisa com sua consulta\n",
    "termo_de_pesquisa.send_keys(\"sé são paulo\")\n",
    "\n",
    "# Pressione Enter para realizar a pesquisa (ou localize e clique no botão de pesquisa)\n",
    "termo_de_pesquisa.send_keys(Keys.ENTER)"
   ]
  },
  {
   "cell_type": "code",
   "execution_count": null,
   "id": "3d205256-ac04-44f6-825d-f573bd642b3b",
   "metadata": {},
   "outputs": [],
   "source": []
  },
  {
   "cell_type": "code",
   "execution_count": 93,
   "id": "6ffcd890-5f38-44e2-8e97-92b0bb9c6c3d",
   "metadata": {},
   "outputs": [
    {
     "name": "stdout",
     "output_type": "stream",
     "text": [
      "{'x': 32, 'y': 425}\n",
      "{'height': 336, 'width': 869}\n"
     ]
    }
   ],
   "source": [
    "element = WebDriverWait(driver,\n",
    "                              20).until(EC.presence_of_element_located((By.XPATH, '/html/body/div[2]/div[2]/div/md-content/div/div/div[1]/trends-widget/ng-include/widget/div/div/ng-include/div')))\n",
    "loc = element.location\n",
    "size = element.size\n",
    "\n",
    "print(loc)\n",
    "print(size)"
   ]
  },
  {
   "cell_type": "code",
   "execution_count": null,
   "id": "2e879395-aee1-4c68-ac66-628cc394f02a",
   "metadata": {},
   "outputs": [],
   "source": [
    "## selecionando categoria\n",
    "\n"
   ]
  },
  {
   "cell_type": "code",
   "execution_count": null,
   "id": "168f2ddc-b60b-4eb5-baef-fb581ca9f320",
   "metadata": {},
   "outputs": [],
   "source": []
  }
 ],
 "metadata": {
  "kernelspec": {
   "display_name": "Python 3 (ipykernel)",
   "language": "python",
   "name": "python3"
  },
  "language_info": {
   "codemirror_mode": {
    "name": "ipython",
    "version": 3
   },
   "file_extension": ".py",
   "mimetype": "text/x-python",
   "name": "python",
   "nbconvert_exporter": "python",
   "pygments_lexer": "ipython3",
   "version": "3.10.9"
  }
 },
 "nbformat": 4,
 "nbformat_minor": 5
}
