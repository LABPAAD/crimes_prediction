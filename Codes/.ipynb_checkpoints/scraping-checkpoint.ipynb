{
 "cells": [
  {
   "cell_type": "code",
   "execution_count": 7,
   "id": "d96b95fb-e2bb-41c3-af2f-fa9f355ec9e3",
   "metadata": {},
   "outputs": [],
   "source": [
    "from selenium import webdriver\n",
    "from selenium.webdriver.common.keys import Keys\n",
    "import time\n",
    "import pandas as pd\n",
    "import numpy as np\n",
    "from glob import glob"
   ]
  },
  {
   "cell_type": "code",
   "execution_count": 6,
   "id": "aa6216ae-3c18-4f4f-a947-d6c206eb990d",
   "metadata": {},
   "outputs": [],
   "source": [
    "lista_dps = glob(\"../Datasets/SSP/2022/*\")\n",
    "lista_dps.sort()\n",
    "\n",
    "termos = []\n",
    "for dp in lista_dps:\n",
    "    item = dp.split(\"-\")\n",
    "    item = item[2]\n",
    "    item = item.join(\" \")+item+\"São Paulo\"\n",
    "    item = item.lstrip()\n",
    "    item = item.lower()\n",
    "    termos.append(item)"
   ]
  },
  {
   "cell_type": "code",
   "execution_count": null,
   "id": "f2f3307a-bd0d-4122-a241-8587c2a86916",
   "metadata": {},
   "outputs": [],
   "source": [
    "categorias = ['Artes e entretenimento', 'Notícias', 'Boates e vida noturna']"
   ]
  },
  {
   "cell_type": "code",
   "execution_count": null,
   "id": "8f4f0a77-790c-42ac-8e33-ac350e740782",
   "metadata": {},
   "outputs": [],
   "source": [
    "# Inicialize o driver do navegador (substitua 'chromedriver' pelo caminho do seu driver)\n",
    "driver = webdriver.Chrome(executable_path='../Outros/chromedriver_linux64/chromedriver')\n",
    "\n",
    "# URL da página que contém o campo de pesquisa e os botões\n",
    "url = \"URL_DO_SITE\"\n",
    "\n",
    "# Abra a página no navegador\n",
    "url = 'https://trends.google.com.br/trends/explore'\n",
    "\n",
    "# Localize o campo de pesquisa (substitua 'id_do_campo' pelo identificador correto)\n",
    "campo_de_pesquisa = driver.find_element_by_id('id_do_campo')\n",
    "\n",
    "# Preencha o campo de pesquisa com sua consulta\n",
    "campo_de_pesquisa.send_keys(\"sua consulta\")\n",
    "\n",
    "# Pressione Enter para realizar a pesquisa (ou localize e clique no botão de pesquisa)\n",
    "campo_de_pesquisa.send_keys(Keys.ENTER)\n",
    "\n",
    "# Aguarde um tempo para a página carregar (ajuste conforme necessário)\n",
    "time.sleep(10)\n",
    "\n",
    "# Localize e clique no botão desejado (substitua 'id_do_botao' pelo identificador correto)\n",
    "botao = driver.find_element_by_id('id_do_botao')\n",
    "botao.click()\n",
    "\n",
    "# Aguarde novamente para a página carregar, se necessário\n",
    "time.sleep(10)\n",
    "\n",
    "# Agora você pode localizar os links para os arquivos CSV e fazer o download deles,\n",
    "# da mesma forma como mencionei no exemplo anterior.\n",
    "\n",
    "# Por fim, feche o navegador quando você terminar\n",
    "driver.quit()"
   ]
  }
 ],
 "metadata": {
  "kernelspec": {
   "display_name": "Python 3 (ipykernel)",
   "language": "python",
   "name": "python3"
  },
  "language_info": {
   "codemirror_mode": {
    "name": "ipython",
    "version": 3
   },
   "file_extension": ".py",
   "mimetype": "text/x-python",
   "name": "python",
   "nbconvert_exporter": "python",
   "pygments_lexer": "ipython3",
   "version": "3.10.9"
  }
 },
 "nbformat": 4,
 "nbformat_minor": 5
}
