{
 "cells": [
  {
   "cell_type": "code",
   "execution_count": null,
   "metadata": {},
   "outputs": [],
   "source": [
    "import pandas as pd\n",
    "import numpy as np\n",
    "from sklearn.neighbors import KNeighborsRegressor\n",
    "from sklearn.model_selection import train_test_split\n",
    "from sklearn.preprocessing import StandardScaler, MinMaxScaler\n",
    "from sklearn.model_selection import LeaveOneOut\n",
    "from sklearn.metrics import mean_absolute_error, mean_squared_error, r2_score"
   ]
  },
  {
   "cell_type": "code",
   "execution_count": null,
   "metadata": {},
   "outputs": [],
   "source": [
    "l1 = list(np.arange(1,54))\n",
    "l2 = [56,57,58,62,63,64,65,66,69,70,73,75,77,78,80,81,85,87,89,90,91,92,96,97,98,99,101,102,103]\n",
    "areas = l1+l2"
   ]
  },
  {
   "cell_type": "code",
   "execution_count": null,
   "metadata": {},
   "outputs": [],
   "source": [
    "features = pd.read_csv(\"Datasets/dataset_features_users_POIs.csv\")\n",
    "# targets = targets.drop(columns=[\"Unnamed: 0\",\"Unnamed: 0.1\", \"qtd_users\"])\n",
    "features = features.drop(columns=[\"Unnamed: 0\"])\n",
    "features.head()"
   ]
  },
  {
   "cell_type": "code",
   "execution_count": null,
   "metadata": {},
   "outputs": [],
   "source": [
    "targets = pd.read_csv(\"Datasets/dataset_soma_ocorr_2022.csv\")\n",
    "\n",
    "# targets = targets.drop(columns=[\"Unnamed: 0\",\"Unnamed: 0.1\", \"qtd_users\"])\n",
    "targets = targets.drop(columns=[\"Unnamed: 0\"])\n",
    "# targets.head()"
   ]
  },
  {
   "cell_type": "code",
   "execution_count": null,
   "metadata": {},
   "outputs": [],
   "source": [
    "targets[\"area\"] = areas"
   ]
  },
  {
   "cell_type": "code",
   "execution_count": null,
   "metadata": {},
   "outputs": [],
   "source": [
    "targets = targets[[\"area\",\"total_homicidios\", \"total_estupro\", \"total_les_corporal\", \"total_roubo2\", \"total_furt\"]]"
   ]
  },
  {
   "cell_type": "code",
   "execution_count": null,
   "metadata": {},
   "outputs": [],
   "source": [
    "# Definindo a semente aleatória como 42\n",
    "np.random.seed(42)\n",
    "\n",
    "# separar as features\n",
    "X = features.values\n",
    "\n",
    "scaler = StandardScaler()\n",
    "X = scaler.fit_transform(X)\n",
    "\n",
    "# criar um objeto do modelo Random Forest Regressor\n",
    "model = KNeighborsRegressor(n_neighbors=5)\n",
    "\n",
    "# criar um objeto LeaveOneOut\n",
    "loo = LeaveOneOut()\n",
    "\n",
    "#matriz de metricas RAE, MAE e R2\n",
    "metricas = pd.DataFrame(columns=['Ocorrencia','RAE','MAE','R2'])\n",
    "ocorrencias = []\n",
    "media_rae = []\n",
    "media_mae =[]\n",
    "media_r2 = []\n",
    "\n",
    "\n",
    "for i in targets.columns:\n",
    "  list_y_test = []\n",
    "  list_y_pred = []\n",
    "  # separa a variável target\n",
    "  y = targets[i].values\n",
    "\n",
    "\n",
    "  # percorrer cada amostra do conjunto de dados\n",
    "  for train_index, test_index in loo.split(X):\n",
    "\n",
    "      # separar os conjuntos de treinamento e teste\n",
    "      X_train, X_test = X[train_index], X[test_index]\n",
    "      y_train, y_test = y[train_index], y[test_index]\n",
    "\n",
    "      # treinar o modelo\n",
    "      model.fit(X_train, y_train)\n",
    "\n",
    "      #adiciona a importancia das features para predição da target i\n",
    "      #importances[i] = model.feature_importances_\n",
    "\n",
    "      # fazer a previsão usando o conjunto de teste\n",
    "      y_pred = model.predict(X_test)\n",
    "\n",
    "      list_y_test.append(y_test)\n",
    "      list_y_pred.append(y_pred)\n",
    "\n",
    "\n",
    "  # calcular o erro relativo absoluto (RAE) e adiciona na lista\n",
    "  media_rae.append(mean_absolute_error(list_y_test, list_y_pred) / np.mean(list_y_test))\n",
    "  # calcular o erro absoluto medio (MAE) e adiciona na lista\n",
    "  media_mae.append(mean_absolute_error(list_y_test, list_y_pred))\n",
    "  # calcular R2 e adiciona na lista\n",
    "  media_r2.append(r2_score(list_y_test,list_y_pred))\n",
    "  #tipo de ocorrencia\n",
    "  ocorrencias.append(i)\n",
    "\n",
    "\n",
    "metricas[\"Ocorrencia\"] = ocorrencias\n",
    "metricas[\"RAE\"] = media_rae\n",
    "metricas[\"MAE\"] = media_mae\n",
    "metricas[\"R2\"] = media_r2"
   ]
  },
  {
   "cell_type": "code",
   "execution_count": null,
   "metadata": {},
   "outputs": [],
   "source": [
    "metricas"
   ]
  }
 ],
 "metadata": {
  "language_info": {
   "name": "python"
  }
 },
 "nbformat": 4,
 "nbformat_minor": 2
}
